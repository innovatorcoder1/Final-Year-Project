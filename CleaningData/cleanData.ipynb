{
 "cells": [
  {
   "cell_type": "code",
   "execution_count": null,
   "metadata": {},
   "outputs": [
    {
     "name": "stdout",
     "output_type": "stream",
     "text": [
      "Columns in the CSV file: Index(['img_text'], dtype='object')\n"
     ]
    }
   ],
   "source": [
    "import pandas as pd\n",
    "import re\n",
    "import emoji\n",
    "from textblob import TextBlob\n",
    "\n",
    "\n",
    "\n",
    "\n",
    "\n",
    "def clean_text(text):\n",
    "    # Check if text is a string\n",
    "    if not isinstance(text, str):\n",
    "        return ''  # Return empty string or original value if not a string\n",
    "\n",
    "    # Convert text to lowercase\n",
    "    text = text.lower()\n",
    "    # Replace emojis with their corresponding text description\n",
    "    text = emoji.demojize(text, delimiters=(\" \", \" \"))\n",
    "    \n",
    "    # Remove HTML tags\n",
    "    text = re.sub(r'<.*?>', '', text)\n",
    "    # Remove URLs\n",
    "    text = re.sub(r'http\\S+|www\\S+|https\\S+', '', text, flags=re.MULTILINE)\n",
    "    # Remove mentions (e.g., @username)\n",
    "    text = re.sub(r'@\\w+', '', text)\n",
    "    # Remove hashtags\n",
    "    text = re.sub(r'#\\w+', '', text)\n",
    "    # Remove numbers\n",
    "    text = re.sub(r'\\d+', '', text)\n",
    "    # Remove punctuations\n",
    "    text = re.sub(r'[^\\w\\s]', '', text)\n",
    "    # Fix misspelled words using TextBlob\n",
    "    text = str(TextBlob(text).correct())\n",
    "    # Remove extra whitespaces\n",
    "    text = re.sub(r'\\s+', ' ', text).strip()\n",
    "    return text\n",
    "\n",
    "def load_and_clean_csv(input_csv_file, output_csv_file, text_column):\n",
    "    try:\n",
    "        # Load the CSV file\n",
    "        df = pd.read_csv(input_csv_file)\n",
    "\n",
    "        # Display the columns in the CSV file\n",
    "        print(\"Columns in the CSV file:\", df.columns)\n",
    "\n",
    "        # Check if the specified text column exists\n",
    "        if text_column in df.columns:\n",
    "            # Apply the clean_text function, ignoring NaN values\n",
    "            df[text_column] = df[text_column].apply(clean_text)\n",
    "        else:\n",
    "            print(f\"The column '{text_column}' was not found in the CSV file.\")\n",
    "            return\n",
    "\n",
    "        # Save the cleaned DataFrame to a new CSV file\n",
    "        df.to_csv(output_csv_file, index=False)\n",
    "        print(f\"Cleaned data has been saved to {output_csv_file}.\")\n",
    "        \n",
    "    except Exception as e:\n",
    "        print(f\"An error occurred: {e}\")\n",
    "\n",
    "# Example usage\n",
    "input_csv_file = r'C:\\Users\\USER 1\\OneDrive\\Documents\\FinalYearProject\\Final-Year-Project\\cleaned_data.csv'  # Replace with the path to your input CSV file\n",
    "output_csv_file = r'C:\\Users\\USER 1\\OneDrive\\Documents\\FinalYearProject\\Final-Year-Project\\cleaned_data1.csv'  # Output path\n",
    "text_column = 'img_text'  # Replace with the actual column name containing the text data\n",
    "\n",
    "load_and_clean_csv(input_csv_file, output_csv_file, text_column)\n"
   ]
  }
 ],
 "metadata": {
  "kernelspec": {
   "display_name": "Python 3",
   "language": "python",
   "name": "python3"
  },
  "language_info": {
   "codemirror_mode": {
    "name": "ipython",
    "version": 3
   },
   "file_extension": ".py",
   "mimetype": "text/x-python",
   "name": "python",
   "nbconvert_exporter": "python",
   "pygments_lexer": "ipython3",
   "version": "3.12.6"
  }
 },
 "nbformat": 4,
 "nbformat_minor": 2
}
