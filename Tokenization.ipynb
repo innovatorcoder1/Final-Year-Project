{
 "cells": [
  {
   "cell_type": "code",
   "execution_count": 5,
   "metadata": {},
   "outputs": [],
   "source": [
    "import pandas as pd\n",
    "import nltk\n",
    "from nltk.tokenize import word_tokenize\n",
    "import re"
   ]
  },
  {
   "cell_type": "code",
   "execution_count": 6,
   "metadata": {},
   "outputs": [
    {
     "name": "stderr",
     "output_type": "stream",
     "text": [
      "[nltk_data] Downloading package punkt to C:\\Users\\USER 1/nltk_data...\n",
      "[nltk_data]   Package punkt is already up-to-date!\n"
     ]
    },
    {
     "data": {
      "text/plain": [
       "True"
      ]
     },
     "execution_count": 6,
     "metadata": {},
     "output_type": "execute_result"
    }
   ],
   "source": [
    "import nltk\n",
    "nltk.download('punkt')"
   ]
  },
  {
   "cell_type": "code",
   "execution_count": 7,
   "metadata": {},
   "outputs": [
    {
     "name": "stdout",
     "output_type": "stream",
     "text": [
      "Tokenized data has been saved to 'tokenized_dataset.csv'.\n"
     ]
    }
   ],
   "source": [
    "\n",
    "\n",
    "# Ensure the nltk data (punkt tokenizer) is downloaded\n",
    "try:\n",
    "    nltk.data.find('tokenizers/punkt')\n",
    "except LookupError:\n",
    "    nltk.download('punkt')\n",
    "\n",
    "# Load your dataset\n",
    "file_path = 'cleaned_output.csv'  # Replace with your dataset's path\n",
    "data = pd.read_csv(file_path)\n",
    "\n",
    "# Specify the column you want to tokenize\n",
    "column_to_tokenize = 'clean_text'  # Replace with your column name\n",
    "\n",
    "# Check if the specified column exists in the dataset\n",
    "if column_to_tokenize in data.columns:\n",
    "    # Handle NaN values by filling them with an empty string\n",
    "    data[column_to_tokenize] = data[column_to_tokenize].fillna('')\n",
    "    \n",
    "    # Define a tokenization function that handles missing nltk data gracefully\n",
    "    def tokenize_text(text):\n",
    "        try:\n",
    "            return word_tokenize(text)\n",
    "        except LookupError:\n",
    "            return re.findall(r'\\b\\w+\\b', text.lower())\n",
    "\n",
    "    # Apply tokenization to the specified column\n",
    "    data[f'{column_to_tokenize}_tokens'] = data[column_to_tokenize].apply(lambda x: tokenize_text(str(x)))\n",
    "\n",
    "    # Save the modified dataset to a new CSV file\n",
    "    output_file_path = 'tokenized_dataset.csv'  # Choose a path to save the new file\n",
    "    data.to_csv(output_file_path, index=False)\n",
    "    \n",
    "    print(f\"Tokenized data has been saved to '{output_file_path}'.\")\n",
    "else:\n",
    "    print(f\"The column '{column_to_tokenize}' does not exist in the dataset.\")\n"
   ]
  },
  {
   "cell_type": "code",
   "execution_count": 8,
   "metadata": {},
   "outputs": [],
   "source": [
    "from nltk.stem import PorterStemmer"
   ]
  },
  {
   "cell_type": "code",
   "execution_count": 12,
   "metadata": {},
   "outputs": [],
   "source": [
    "import pandas as pd\n",
    "from nltk.stem import PorterStemmer\n",
    "from nltk.tokenize import word_tokenize\n",
    "import nltk\n",
    "import re"
   ]
  },
  {
   "cell_type": "code",
   "execution_count": 13,
   "metadata": {},
   "outputs": [
    {
     "name": "stdout",
     "output_type": "stream",
     "text": [
      "Stemmed data has been saved to 'stemmed_dataset.csv'.\n"
     ]
    }
   ],
   "source": [
    "\n",
    "\n",
    "# Ensure necessary NLTK packages are downloaded\n",
    "try:\n",
    "    nltk.data.find('tokenizers/punkt')\n",
    "except LookupError:\n",
    "    nltk.download('punkt')\n",
    "\n",
    "# Load your dataset\n",
    "file_path = 'tokenized_dataset.csv'  # Replace with your dataset's path\n",
    "data = pd.read_csv(file_path)\n",
    "\n",
    "# Specify the column you want to apply stemming to\n",
    "column_to_stem = 'clean_text'  # Replace with the actual column name\n",
    "\n",
    "# Initialize the stemmer\n",
    "stemmer = PorterStemmer()\n",
    "\n",
    "# Define a function to perform stemming with error handling\n",
    "def stem_text(text):\n",
    "    try:\n",
    "        # Tokenize and stem each word\n",
    "        tokens = word_tokenize(str(text))\n",
    "    except LookupError:\n",
    "        # Fallback to simple regex-based tokenization if there's a lookup error\n",
    "        tokens = re.findall(r'\\b\\w+\\b', str(text).lower())\n",
    "    stemmed_tokens = [stemmer.stem(word) for word in tokens]\n",
    "    return ' '.join(stemmed_tokens)\n",
    "\n",
    "# Check if the specified column exists in the dataset\n",
    "if column_to_stem in data.columns:\n",
    "    # Handle NaN values by filling them with an empty string\n",
    "    data[column_to_stem] = data[column_to_stem].fillna('')\n",
    "    \n",
    "    # Apply stemming to the specified column and create a new column for the stemmed text\n",
    "    data[f'{column_to_stem}_stemmed'] = data[column_to_stem].apply(stem_text)\n",
    "\n",
    "    # Save the modified dataset to a new CSV file\n",
    "    output_file_path = 'stemmed_dataset.csv'  # Choose a path to save the new file\n",
    "    data.to_csv(output_file_path, index=False)\n",
    "    \n",
    "    print(f\"Stemmed data has been saved to '{output_file_path}'.\")\n",
    "else:\n",
    "    print(f\"The column '{column_to_stem}' does not exist in the dataset.\")\n"
   ]
  }
 ],
 "metadata": {
  "kernelspec": {
   "display_name": "Python 3",
   "language": "python",
   "name": "python3"
  },
  "language_info": {
   "codemirror_mode": {
    "name": "ipython",
    "version": 3
   },
   "file_extension": ".py",
   "mimetype": "text/x-python",
   "name": "python",
   "nbconvert_exporter": "python",
   "pygments_lexer": "ipython3",
   "version": "3.12.6"
  }
 },
 "nbformat": 4,
 "nbformat_minor": 2
}
